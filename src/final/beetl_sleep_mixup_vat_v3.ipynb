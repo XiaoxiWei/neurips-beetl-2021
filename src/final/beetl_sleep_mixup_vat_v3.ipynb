{
  "cells": [
    {
      "cell_type": "code",
      "execution_count": null,
      "metadata": {
        "colab": {
          "base_uri": "https://localhost:8080/"
        },
        "id": "f2JZC8x0mZRd",
        "outputId": "0d6aa6f1-3ca9-4f4a-d794-0cb80c1ef1e5"
      },
      "outputs": [
        {
          "name": "stdout",
          "output_type": "stream",
          "text": [
            "Fri Oct  1 14:16:14 2021       \n",
            "+-----------------------------------------------------------------------------+\n",
            "| NVIDIA-SMI 470.63.01    Driver Version: 460.32.03    CUDA Version: 11.2     |\n",
            "|-------------------------------+----------------------+----------------------+\n",
            "| GPU  Name        Persistence-M| Bus-Id        Disp.A | Volatile Uncorr. ECC |\n",
            "| Fan  Temp  Perf  Pwr:Usage/Cap|         Memory-Usage | GPU-Util  Compute M. |\n",
            "|                               |                      |               MIG M. |\n",
            "|===============================+======================+======================|\n",
            "|   0  Tesla K80           Off  | 00000000:00:04.0 Off |                    0 |\n",
            "| N/A   48C    P8    32W / 149W |      0MiB / 11441MiB |      0%      Default |\n",
            "|                               |                      |                  N/A |\n",
            "+-------------------------------+----------------------+----------------------+\n",
            "                                                                               \n",
            "+-----------------------------------------------------------------------------+\n",
            "| Processes:                                                                  |\n",
            "|  GPU   GI   CI        PID   Type   Process name                  GPU Memory |\n",
            "|        ID   ID                                                   Usage      |\n",
            "|=============================================================================|\n",
            "|  No running processes found                                                 |\n",
            "+-----------------------------------------------------------------------------+\n"
          ]
        }
      ],
      "source": [
        "!nvidia-smi"
      ]
    },
    {
      "cell_type": "code",
      "execution_count": null,
      "metadata": {
        "colab": {
          "base_uri": "https://localhost:8080/"
        },
        "id": "JBvEXtUsx-Iv",
        "outputId": "29a8ed9e-d3af-4dee-e71c-f4e0983a73a1"
      },
      "outputs": [
        {
          "name": "stdout",
          "output_type": "stream",
          "text": [
            "Collecting mne\n",
            "  Downloading mne-0.23.4-py3-none-any.whl (6.9 MB)\n",
            "\u001b[K     |████████████████████████████████| 6.9 MB 2.0 MB/s \n",
            "\u001b[?25hRequirement already satisfied: numpy>=1.15.4 in /usr/local/lib/python3.7/dist-packages (from mne) (1.19.5)\n",
            "Requirement already satisfied: scipy>=1.1.0 in /usr/local/lib/python3.7/dist-packages (from mne) (1.4.1)\n",
            "Installing collected packages: mne\n",
            "Successfully installed mne-0.23.4\n",
            "Collecting braindecode\n",
            "  Downloading Braindecode-0.5.1-py3-none-any.whl (97 kB)\n",
            "\u001b[K     |████████████████████████████████| 97 kB 2.2 MB/s \n",
            "\u001b[?25hCollecting skorch\n",
            "  Downloading skorch-0.10.0-py3-none-any.whl (128 kB)\n",
            "\u001b[K     |████████████████████████████████| 128 kB 12.1 MB/s \n",
            "\u001b[?25hRequirement already satisfied: numpy in /usr/local/lib/python3.7/dist-packages (from braindecode) (1.19.5)\n",
            "Requirement already satisfied: matplotlib in /usr/local/lib/python3.7/dist-packages (from braindecode) (3.2.2)\n",
            "Requirement already satisfied: mne in /usr/local/lib/python3.7/dist-packages (from braindecode) (0.23.4)\n",
            "Requirement already satisfied: scipy in /usr/local/lib/python3.7/dist-packages (from braindecode) (1.4.1)\n",
            "Requirement already satisfied: h5py in /usr/local/lib/python3.7/dist-packages (from braindecode) (3.1.0)\n",
            "Requirement already satisfied: pandas in /usr/local/lib/python3.7/dist-packages (from braindecode) (1.1.5)\n",
            "Requirement already satisfied: cached-property in /usr/local/lib/python3.7/dist-packages (from h5py->braindecode) (1.5.2)\n",
            "Requirement already satisfied: cycler>=0.10 in /usr/local/lib/python3.7/dist-packages (from matplotlib->braindecode) (0.10.0)\n",
            "Requirement already satisfied: pyparsing!=2.0.4,!=2.1.2,!=2.1.6,>=2.0.1 in /usr/local/lib/python3.7/dist-packages (from matplotlib->braindecode) (2.4.7)\n",
            "Requirement already satisfied: kiwisolver>=1.0.1 in /usr/local/lib/python3.7/dist-packages (from matplotlib->braindecode) (1.3.2)\n",
            "Requirement already satisfied: python-dateutil>=2.1 in /usr/local/lib/python3.7/dist-packages (from matplotlib->braindecode) (2.8.2)\n",
            "Requirement already satisfied: six in /usr/local/lib/python3.7/dist-packages (from cycler>=0.10->matplotlib->braindecode) (1.15.0)\n",
            "Requirement already satisfied: pytz>=2017.2 in /usr/local/lib/python3.7/dist-packages (from pandas->braindecode) (2018.9)\n",
            "Requirement already satisfied: scikit-learn>=0.19.1 in /usr/local/lib/python3.7/dist-packages (from skorch->braindecode) (0.22.2.post1)\n",
            "Requirement already satisfied: tqdm>=4.14.0 in /usr/local/lib/python3.7/dist-packages (from skorch->braindecode) (4.62.3)\n",
            "Requirement already satisfied: tabulate>=0.7.7 in /usr/local/lib/python3.7/dist-packages (from skorch->braindecode) (0.8.9)\n",
            "Requirement already satisfied: joblib>=0.11 in /usr/local/lib/python3.7/dist-packages (from scikit-learn>=0.19.1->skorch->braindecode) (1.0.1)\n",
            "Installing collected packages: skorch, braindecode\n",
            "Successfully installed braindecode-0.5.1 skorch-0.10.0\n"
          ]
        }
      ],
      "source": [
        "!pip install mne\n",
        "!pip install braindecode"
      ]
    },
    {
      "cell_type": "code",
      "execution_count": null,
      "metadata": {
        "colab": {
          "base_uri": "https://localhost:8080/"
        },
        "id": "LHx5IcpFmc4e",
        "outputId": "45be23b0-fe47-420e-f36c-ed75d25d750a"
      },
      "outputs": [
        {
          "name": "stdout",
          "output_type": "stream",
          "text": [
            "Drive already mounted at /gdrive; to attempt to forcibly remount, call drive.mount(\"/gdrive\", force_remount=True).\n",
            "/gdrive\n"
          ]
        }
      ],
      "source": [
        "from google.colab import drive\n",
        "drive.mount('/gdrive')\n",
        "%cd /gdrive"
      ]
    },
    {
      "cell_type": "code",
      "execution_count": null,
      "metadata": {
        "id": "yQV_qPGgvys-"
      },
      "outputs": [],
      "source": [
        "DATA_FOLDER = \"/home/data/\"\r\n",
        "OUTPUT_FOLDER = \"/home/output/\"\r\n",
        "\r\n",
        "GDRIVE_DATA_FOLDER = \"/gdrive/My Drive/Projects/BEETL/data/sleep/\"\r\n",
        "GDRIVE_OUTPUT_FOLDER = \"/gdrive/MyDrive/Projects/BEETL/output/\""
      ]
    },
    {
      "cell_type": "code",
      "execution_count": null,
      "metadata": {
        "id": "1I0MRUXImkdI"
      },
      "outputs": [],
      "source": [
        "!mkdir {OUTPUT_FOLDER}\r\n",
        "!mkdir {DATA_FOLDER}\r\n",
        "!unzip -qq {GDRIVE_DATA_FOLDER}SleepSource.zip -d {DATA_FOLDER}\r\n",
        "!unzip -qq {GDRIVE_DATA_FOLDER}LeaderboardSleep.zip -d {DATA_FOLDER}\r\n",
        "!unzip -qq {GDRIVE_DATA_FOLDER}finalSleep.zip -d {DATA_FOLDER}"
      ]
    },
    {
      "cell_type": "code",
      "execution_count": null,
      "metadata": {
        "colab": {
          "base_uri": "https://localhost:8080/"
        },
        "id": "WvaKITJanDYm",
        "outputId": "b36347a6-4f35-4629-b598-6d0f8f3b472d"
      },
      "outputs": [
        {
          "name": "stdout",
          "output_type": "stream",
          "text": [
            "finalSleep  LeaderboardSleep  SleepSource\n",
            "sleep_target  testing\n",
            "sleep_target  testing\n"
          ]
        }
      ],
      "source": [
        "!ls {DATA_FOLDER}\n",
        "!ls {DATA_FOLDER}LeaderboardSleep/\n",
        "!ls {DATA_FOLDER}finalSleep/"
      ]
    },
    {
      "cell_type": "markdown",
      "metadata": {
        "id": "0pKksrpU_BgV"
      },
      "source": [
        "## setup"
      ]
    },
    {
      "cell_type": "code",
      "execution_count": null,
      "metadata": {
        "id": "458BBEygxACF"
      },
      "outputs": [],
      "source": [
        "import os\n",
        "import pickle\n",
        "import numpy as np\n",
        "from tqdm import tqdm\n",
        "import matplotlib.pyplot as plt"
      ]
    },
    {
      "cell_type": "code",
      "execution_count": null,
      "metadata": {
        "id": "UN8BExC-xtNk"
      },
      "outputs": [],
      "source": [
        "SOURCE_DATA_FOLDER = DATA_FOLDER + \"SleepSource/\"\n",
        "LEADERBOARD_TARGET_DATA_FOLDER = DATA_FOLDER + \"LeaderboardSleep/sleep_target/\"\n",
        "LEADERBOARD_TEST_DATA_FOLDER = DATA_FOLDER + \"LeaderboardSleep/testing/\"\n",
        "FINAL_TARGET_DATA_FOLDER = DATA_FOLDER + \"finalSleep/sleep_target/\"\n",
        "FINAL_TEST_DATA_FOLDER = DATA_FOLDER + \"finalSleep/testing/\""
      ]
    },
    {
      "cell_type": "markdown",
      "metadata": {
        "id": "iTtgjHnb_C71"
      },
      "source": [
        "## data_utils"
      ]
    },
    {
      "cell_type": "code",
      "execution_count": null,
      "metadata": {
        "id": "3VTwOdosGN3B"
      },
      "outputs": [],
      "source": [
        "import mne"
      ]
    },
    {
      "cell_type": "code",
      "execution_count": null,
      "metadata": {
        "id": "ykSu_8O1wo_x"
      },
      "outputs": [],
      "source": [
        "def load_data(data_folder, load_labels=True):\n",
        "    fn_list = sorted(os.listdir(data_folder))\n",
        "    print(f\"Loading data from folder: {data_folder} ({len(fn_list)} files) - Load labels {load_labels}\")\n",
        "\n",
        "    data_map = {}\n",
        "    subject_list = []\n",
        "    sample_counter = 0\n",
        "\n",
        "    for fn in tqdm(fn_list):\n",
        "        if fn.endswith(\"X.npy\"):\n",
        "            code = fn.split(\"_\")[1][:-4]\n",
        "        elif fn == \"headerInfo.npy\":\n",
        "            meta = np.load(data_folder + fn, allow_pickle=True)\n",
        "            print(meta)\n",
        "            continue\n",
        "        else:\n",
        "            continue\n",
        "\n",
        "        eeg = np.load(data_folder + fn, allow_pickle=True)\n",
        "\n",
        "        if load_labels:\n",
        "            label_fn = fn.replace(\"X\", \"y\")\n",
        "            label = np.load(data_folder + label_fn, allow_pickle=True)\n",
        "        else:\n",
        "            label = None\n",
        "\n",
        "        s_part, r_part = code.split(\"r\")\n",
        "        subject = int(s_part[1:])\n",
        "        repetition = int(r_part[:-1])\n",
        "        \n",
        "        subject_list.append(subject)\n",
        "\n",
        "        if subject not in data_map.keys():\n",
        "            data_map[subject] = {}\n",
        "\n",
        "        data_map[subject][repetition] = {\"eeg\": eeg, \"label\": label}\n",
        "        sample_counter += len(eeg)\n",
        "\n",
        "    subject_list = np.unique(subject_list)\n",
        "    print(f\"Loaded total {sample_counter} samples for subjects: {subject_list}\")\n",
        "    return data_map, subject_list"
      ]
    },
    {
      "cell_type": "markdown",
      "metadata": {
        "id": "EkhPIbeMmDsy"
      },
      "source": [
        "### preprocessing"
      ]
    },
    {
      "cell_type": "code",
      "execution_count": null,
      "metadata": {
        "id": "1v55ovoxRJm_"
      },
      "outputs": [],
      "source": [
        "def prepare_window_data(data, subject_list=None):\n",
        "    window_data = []\n",
        "    window_labels = []\n",
        "\n",
        "    if subject_list is None:\n",
        "        subject_list = data.keys()\n",
        "\n",
        "    for s in tqdm(subject_list):\n",
        "        for r in data[s].keys():\n",
        "            eeg = data[s][r][\"eeg\"]\n",
        "            label = data[s][r][\"label\"]\n",
        "\n",
        "            window_data.extend(eeg)\n",
        "            \n",
        "            if label is not None:\n",
        "                window_labels.extend(label)\n",
        "\n",
        "    return window_data, window_labels"
      ]
    },
    {
      "cell_type": "code",
      "execution_count": null,
      "metadata": {
        "id": "v3_UvY6eKqUZ"
      },
      "outputs": [],
      "source": [
        "import mne"
      ]
    },
    {
      "cell_type": "code",
      "execution_count": null,
      "metadata": {
        "id": "ktgIfT6E8J8l"
      },
      "outputs": [],
      "source": [
        "def print_stats(desc, data):\n",
        "    print(f\"{desc} mean: {np.mean(data)}, std: {np.std(data)}, min: {np.min(data)}, max: {np.max(data)}\")\n",
        "\n",
        "def normalize(data, mean_value, std_value, desc=\"\"):\n",
        "    data = np.array(data)\n",
        "    data = (data - mean_value) / std_value\n",
        "    print_stats(desc, data)\n",
        "    return list(data)\n",
        "\n",
        "def filter_freq(data, f_min, f_max, FS):\n",
        "    return mne.filter.filter_data(np.array(data, dtype=np.float64), FS, f_min, f_max, method=\"iir\", verbose=False)\n",
        "\n",
        "def downsample(data, FS, FS_new):\n",
        "    return mne.filter.resample(data, down=FS/FS_new)"
      ]
    },
    {
      "cell_type": "markdown",
      "metadata": {
        "id": "zr8X6O4Cm7Xh"
      },
      "source": [
        "## runner_utils"
      ]
    },
    {
      "cell_type": "code",
      "execution_count": null,
      "metadata": {
        "id": "fPjpxd2vmyvU"
      },
      "outputs": [],
      "source": [
        "import os\n",
        "import torch\n",
        "import random\n",
        "import numpy as np\n",
        "\n",
        "def seed_everything(seed):\n",
        "    os.environ[\"PYTHONHASHSEED\"] = str(seed)\n",
        "    random.seed(seed)\n",
        "    np.random.seed(seed)\n",
        "    torch.manual_seed(seed)\n",
        "    torch.cuda.manual_seed(seed)\n",
        "    torch.backends.cudnn.deterministic = True"
      ]
    },
    {
      "cell_type": "markdown",
      "metadata": {
        "id": "z8hVD0tG_z8l"
      },
      "source": [
        "## dataset"
      ]
    },
    {
      "cell_type": "code",
      "execution_count": null,
      "metadata": {
        "id": "1aPOZBfP8O1M"
      },
      "outputs": [],
      "source": [
        "def add_noise(data):\n",
        "    if np.random.rand() > 0.5:\n",
        "        data += np.random.normal(0, 0.01, (data.shape))\n",
        "    return data\n",
        "\n",
        "def handle_mixup(idx, data, label, mixup_data, supervised_mixup_data, mixup_idx, mixup_rate):\n",
        "    mixup_data = mixup_data\n",
        "    # use supervised mixup data if available\n",
        "    if supervised_mixup_data is not None:\n",
        "        mixup_data = supervised_mixup_data[label]\n",
        "    # if mixup condition is set and id is not mixable\n",
        "    if mixup_idx is not None and not mixup_idx[idx]:\n",
        "        mixup_data = None\n",
        "    # do mixup if available\n",
        "    if mixup_data is not None:\n",
        "        data = mixup(data, mixup_data, mixup_rate)\n",
        "    \n",
        "    return data\n",
        "\n",
        "def mixup(data, mixup_data, mixup_rate):\n",
        "    mixup_rate = np.random.rand() * mixup_rate\n",
        "    idx = np.random.randint(0, len(mixup_data))\n",
        "    return (1-mixup_rate)*data + mixup_rate*mixup_data[idx]"
      ]
    },
    {
      "cell_type": "code",
      "execution_count": null,
      "metadata": {
        "id": "7dEidv1V_wDZ"
      },
      "outputs": [],
      "source": [
        "class SleepDataset(torch.utils.data.Dataset):\n",
        "    def __init__(self, data, labels, transform=None, mixup_data=None, supervised_mixup_data=None, mixup_idx=None, mixup_rate=None):\n",
        "        self.data = data\n",
        "        self.labels = labels\n",
        "        self.transform = transform\n",
        "        \n",
        "        self.supervised_mixup_data = supervised_mixup_data\n",
        "        self.mixup_data = mixup_data\n",
        "        self.mixup_idx = mixup_idx\n",
        "        self.mixup_rate = mixup_rate\n",
        "\n",
        "    def __len__(self):\n",
        "        return len(self.data)\n",
        "\n",
        "    def __getitem__(self, idx):\n",
        "        data = self.data[idx]\n",
        "\n",
        "        if self.labels is not None:\n",
        "            label = self.labels[idx].astype(np.int64)\n",
        "        else:\n",
        "            label = -1\n",
        "        \n",
        "        ### DATA AUGMENTATION ###\n",
        "        data = handle_mixup(idx, data, label, self.mixup_data, self.supervised_mixup_data, self.mixup_idx, self.mixup_rate)\n",
        "\n",
        "        if self.transform:\n",
        "            data = self.transform(data)\n",
        "        ### END DATA AUGMENTATION ###\n",
        "\n",
        "        data = data.astype(np.float32)\n",
        "\n",
        "        return {\"eeg\": data, \"label\": label}"
      ]
    },
    {
      "cell_type": "markdown",
      "metadata": {
        "id": "HINToD0wVG4Q"
      },
      "source": [
        "## runner"
      ]
    },
    {
      "cell_type": "markdown",
      "metadata": {
        "id": "duip5LdjmWHV"
      },
      "source": [
        "### Focal loss"
      ]
    },
    {
      "cell_type": "code",
      "execution_count": null,
      "metadata": {
        "id": "7g5R7c1rmYOn"
      },
      "outputs": [],
      "source": [
        "import torch.nn.functional as F\n",
        "\n",
        "class FocalLoss(torch.nn.Module):\n",
        "    \"\"\" Focal loss with optional label smoothing.\n",
        "\n",
        "    Calculates mean focal loss over given data with optional label smoothing.\n",
        "\n",
        "    Attributes\n",
        "    ----------\n",
        "        alpha: int = 1\n",
        "        gamma: int = 2\n",
        "        logits: bool = True\n",
        "        reduce: bool = True\n",
        "        ls: float = None\n",
        "            label smoothing ratio, if None label smoothing will not be applied\n",
        "        classes: int = None\n",
        "            number of classes required for label smoothing\n",
        "    \"\"\"\n",
        "\n",
        "    def __init__(\n",
        "        self,\n",
        "        alpha: int = 1,\n",
        "        gamma: int = 2,\n",
        "        logits: bool = True,\n",
        "        reduce: bool = True,\n",
        "        ls: float = 0.05,\n",
        "        classes: int = 6,\n",
        "    ):\n",
        "        super(FocalLoss, self).__init__()\n",
        "        self.alpha = alpha\n",
        "        self.gamma = gamma\n",
        "        self.logits = logits\n",
        "        self.reduce = reduce\n",
        "        self.ls = ls\n",
        "        self.classes = classes\n",
        "\n",
        "    def forward(self, inputs, targets):\n",
        "        targets = F.one_hot(targets, num_classes=6)\n",
        "\n",
        "        if self.ls is not None:\n",
        "            targets = (1 - self.ls) * targets + self.ls / self.classes\n",
        "\n",
        "        if self.logits:\n",
        "            BCE_loss = F.binary_cross_entropy_with_logits(inputs, targets, reduction=\"none\")\n",
        "        else:\n",
        "            BCE_loss = F.binary_cross_entropy(inputs, targets, reduction=\"none\")\n",
        "\n",
        "        pt = torch.exp(-BCE_loss)\n",
        "        F_loss = self.alpha * (1 - pt) ** self.gamma * BCE_loss\n",
        "\n",
        "        if self.reduce:\n",
        "            return torch.mean(F_loss)\n",
        "        else:\n",
        "            return F_loss"
      ]
    },
    {
      "cell_type": "markdown",
      "metadata": {
        "id": "43a4q46BYy8d"
      },
      "source": [
        "### VAT"
      ]
    },
    {
      "cell_type": "code",
      "execution_count": null,
      "metadata": {
        "id": "VU_cmbORYz65"
      },
      "outputs": [],
      "source": [
        "# implementation from: https://github.com/lyakaap/VAT-pytorch\r\n",
        "\r\n",
        "import contextlib\r\n",
        "import torch\r\n",
        "import torch.nn as nn\r\n",
        "import torch.nn.functional as F\r\n",
        "\r\n",
        "\r\n",
        "@contextlib.contextmanager\r\n",
        "def _disable_tracking_bn_stats(model):\r\n",
        "\r\n",
        "    def switch_attr(m):\r\n",
        "        if hasattr(m, 'track_running_stats'):\r\n",
        "            m.track_running_stats ^= True\r\n",
        "            \r\n",
        "    model.apply(switch_attr)\r\n",
        "    yield\r\n",
        "    model.apply(switch_attr)\r\n",
        "\r\n",
        "\r\n",
        "def _l2_normalize(d):\r\n",
        "    d_reshaped = d.view(d.shape[0], -1, *(1 for _ in range(d.dim() - 2)))\r\n",
        "    d /= torch.norm(d_reshaped, dim=1, keepdim=True) + 1e-8\r\n",
        "    return d\r\n",
        "\r\n",
        "\r\n",
        "class VATLoss(nn.Module):\r\n",
        "\r\n",
        "    def __init__(self, xi=10.0, eps=1.0, ip=1):\r\n",
        "        \"\"\"VAT loss\r\n",
        "        :param xi: hyperparameter of VAT (default: 10.0)\r\n",
        "        :param eps: hyperparameter of VAT (default: 1.0)\r\n",
        "        :param ip: iteration times of computing adv noise (default: 1)\r\n",
        "        \"\"\"\r\n",
        "        super(VATLoss, self).__init__()\r\n",
        "        self.xi = xi\r\n",
        "        self.eps = eps\r\n",
        "        self.ip = ip\r\n",
        "\r\n",
        "    def forward(self, model, x):\r\n",
        "        with torch.no_grad():\r\n",
        "            pred = F.softmax(model(x), dim=1)\r\n",
        "\r\n",
        "        # prepare random unit tensor\r\n",
        "        d = torch.rand(x.shape).sub(0.5).to(x.device)\r\n",
        "        d = _l2_normalize(d)\r\n",
        "\r\n",
        "        with _disable_tracking_bn_stats(model):\r\n",
        "            # calc adversarial direction\r\n",
        "            for _ in range(self.ip):\r\n",
        "                d.requires_grad_()\r\n",
        "                pred_hat = model(x + self.xi * d)\r\n",
        "                logp_hat = F.log_softmax(pred_hat, dim=1)\r\n",
        "                adv_distance = F.kl_div(logp_hat, pred, reduction='batchmean')\r\n",
        "                adv_distance.backward()\r\n",
        "                d = _l2_normalize(d.grad)\r\n",
        "                model.zero_grad()\r\n",
        "    \r\n",
        "            # calc LDS\r\n",
        "            r_adv = d * self.eps\r\n",
        "            pred_hat = model(x + r_adv)\r\n",
        "            logp_hat = F.log_softmax(pred_hat, dim=1)\r\n",
        "            lds = F.kl_div(logp_hat, pred, reduction='batchmean')\r\n",
        "\r\n",
        "        return lds"
      ]
    },
    {
      "cell_type": "markdown",
      "metadata": {
        "id": "4iFeq1WGmNWO"
      },
      "source": [
        "### train, validate, predict"
      ]
    },
    {
      "cell_type": "code",
      "execution_count": null,
      "metadata": {
        "id": "o3_fBKRWVJbq"
      },
      "outputs": [],
      "source": [
        "import torch\n",
        "import numpy as np\n",
        "\n",
        "def train_epoch(args, model, loader, criterion, optimizer, scheduler, epoch):\n",
        "    losses = []\n",
        "    targets_all = []\n",
        "    outputs_all = []\n",
        "\n",
        "    vat_loss = VATLoss(xi=10.0, eps=1.0, ip=1)\n",
        "\n",
        "    model.train()\n",
        "    t = tqdm(loader)\n",
        "\n",
        "    for i, sample in enumerate(t):\n",
        "        optimizer.zero_grad()\n",
        "\n",
        "        eeg = sample[\"eeg\"].to(args.device)\n",
        "        target = sample[\"label\"].to(args.device)\n",
        "\n",
        "        lds = vat_loss(model, eeg)\n",
        "        output = model(eeg)\n",
        "        loss = criterion(output, target) + args.alpha * lds\n",
        "        loss.backward()\n",
        "        optimizer.step()\n",
        "\n",
        "        if scheduler is not None:\n",
        "            scheduler.step()\n",
        "\n",
        "        losses.append(loss.item())\n",
        "        \n",
        "        target = target.cpu().numpy()\n",
        "        output = output.detach().cpu().numpy()\n",
        "\n",
        "        targets_all.extend(target)\n",
        "        outputs_all.extend(output)\n",
        "\n",
        "        output_loss = np.mean(losses)\n",
        "        output_score = np.mean(targets_all == np.argmax(outputs_all, axis=1))\n",
        "\n",
        "        t.set_description(\n",
        "            f\"Epoch {epoch}/{args.epochs} - Train loss: {output_loss:0.4f}, score: {output_score:0.4f}\"\n",
        "        )\n",
        "\n",
        "    return targets_all, outputs_all, output_score, output_loss\n",
        "\n",
        "\n",
        "def validate(args, model, loader, criterion, desc=\"Valid\"):\n",
        "    losses = []\n",
        "    targets_all = []\n",
        "    outputs_all = []\n",
        "\n",
        "    t = tqdm(loader)\n",
        "    model.eval()\n",
        "    with torch.no_grad():\n",
        "        for i, sample in enumerate(t):\n",
        "            eeg = sample[\"eeg\"].to(args.device)\n",
        "            target = sample[\"label\"].to(args.device)\n",
        "\n",
        "            output = model(eeg)\n",
        "            loss = criterion(output, target)\n",
        "\n",
        "            losses.append(loss.item())\n",
        "            targets_all.extend(target.cpu().numpy())\n",
        "            outputs_all.extend(output.detach().cpu().numpy())\n",
        "\n",
        "            output_loss = np.mean(losses)\n",
        "            output_score = np.mean(targets_all == np.argmax(outputs_all, axis=1))\n",
        "\n",
        "            t.set_description(\n",
        "                f\"\\t  - {desc} loss: {output_loss:0.4f}, score: {output_score:0.4f}\"\n",
        "            )\n",
        "\n",
        "    return targets_all, outputs_all, output_score, output_loss\n",
        "\n",
        "\n",
        "def predict(args, model, loader):\n",
        "    outputs_all = []\n",
        "\n",
        "    t = tqdm(loader)\n",
        "    model.eval()\n",
        "    with torch.no_grad():\n",
        "        for i, sample in enumerate(t):\n",
        "            eeg = sample[\"eeg\"].to(args.device)\n",
        "\n",
        "            output = model(eeg)\n",
        "            outputs_all.extend(output.detach().cpu().numpy())\n",
        "    return outputs_all"
      ]
    },
    {
      "cell_type": "markdown",
      "metadata": {
        "id": "gMPUxGe0X4L_"
      },
      "source": [
        "## model"
      ]
    },
    {
      "cell_type": "code",
      "execution_count": null,
      "metadata": {
        "id": "SjtnkFJrhTp8"
      },
      "outputs": [],
      "source": [
        "import torch\n",
        "import torch.nn as nn"
      ]
    },
    {
      "cell_type": "code",
      "execution_count": null,
      "metadata": {
        "id": "__H9q1GtX5Fe"
      },
      "outputs": [],
      "source": [
        "def get_linear(in_features, out_features):\n",
        "    return nn.utils.weight_norm(nn.Linear(in_features, out_features))\n",
        "\n",
        "class BaseEEGClassifier(nn.Module):\n",
        "    def __init__(self):\n",
        "        super(BaseEEGClassifier, self).__init__()\n",
        "\n",
        "        N_channels = [64, 128, 256]\n",
        "        \n",
        "        self.c1 = nn.Sequential(nn.Conv1d(2, N_channels[0], 401, 50, 200),\n",
        "                                nn.BatchNorm1d(N_channels[0]),\n",
        "                                nn.SiLU(),\n",
        "                                nn.Dropout(0.2),\n",
        "                                nn.MaxPool1d(3,2,1),\n",
        "                                nn.Conv1d(N_channels[0], N_channels[1], 7, 2, 3),\n",
        "                                nn.BatchNorm1d(N_channels[1]),\n",
        "                                nn.SiLU(),\n",
        "                                nn.Dropout(0.2),\n",
        "                                nn.Conv1d(N_channels[1], N_channels[2], 5, 1, 2),\n",
        "                                nn.BatchNorm1d(N_channels[2]),\n",
        "                                nn.AdaptiveMaxPool1d(1),\n",
        "                                )\n",
        "        \n",
        "        self.c2 = nn.Sequential(nn.Conv1d(2, N_channels[0], 51, 5, 25),\n",
        "                                nn.BatchNorm1d(N_channels[0]),\n",
        "                                nn.SiLU(),\n",
        "                                nn.Dropout(0.2),\n",
        "                                nn.MaxPool1d(9,3,4),\n",
        "                                nn.Conv1d(N_channels[0], N_channels[1], 7, 2, 3),\n",
        "                                nn.BatchNorm1d(N_channels[1]),\n",
        "                                nn.SiLU(),\n",
        "                                nn.Conv1d(N_channels[1], N_channels[2], 5, 1, 2),\n",
        "                                nn.BatchNorm1d(N_channels[2]),\n",
        "                                nn.AdaptiveMaxPool1d(1),\n",
        "                                )\n",
        "        \n",
        "        self.linear = get_linear(N_channels[2]*2, 1024)\n",
        "        self.act = nn.SiLU()\n",
        "        self.dropout = nn.Dropout(0.2)\n",
        "        \n",
        "    def forward(self, x):\n",
        "        x1 = self.c1(x)\n",
        "        x2 = self.c2(x)\n",
        "\n",
        "        x = torch.cat([x1, x2], dim=1)\n",
        "        x = x.flatten(1,-1)\n",
        "        x = self.act(x)\n",
        "        x = self.dropout(x)\n",
        "        x = self.linear(x)\n",
        "        x = self.act(x)\n",
        "        return x\n",
        "\n",
        "class EEGClassifier(nn.Module):\n",
        "    def __init__(self):\n",
        "        super(EEGClassifier, self).__init__()\n",
        "\n",
        "        self.base = BaseEEGClassifier()\n",
        "        self.fc = get_linear(1024, 6)\n",
        "\n",
        "    def features(self, x):\n",
        "        x = self.base(x)\n",
        "        return x\n",
        "\n",
        "    def forward(self, x):\n",
        "        x = self.features(x)\n",
        "        x = self.fc(x)\n",
        "        return x"
      ]
    },
    {
      "cell_type": "markdown",
      "metadata": {
        "id": "tgpJaPvEXQWE"
      },
      "source": [
        "## main"
      ]
    },
    {
      "cell_type": "code",
      "execution_count": null,
      "metadata": {
        "id": "zTMVQpxbYi7o"
      },
      "outputs": [],
      "source": [
        "import seaborn as sns\n",
        "from torch.utils.data import DataLoader, WeightedRandomSampler\n",
        "from sklearn.metrics import confusion_matrix"
      ]
    },
    {
      "cell_type": "markdown",
      "metadata": {
        "id": "6vqs7U7vqiyd"
      },
      "source": [
        "### args"
      ]
    },
    {
      "cell_type": "code",
      "execution_count": null,
      "metadata": {
        "id": "wI4A8-pCYsUW"
      },
      "outputs": [],
      "source": [
        "import json\n",
        "\n",
        "class base_args(object):\n",
        "    def __init__(self, model_name, seed=42):\n",
        "        self.model_name = model_name\n",
        "        self.seed = seed\n",
        "\n",
        "        self.lr = 1e-3\n",
        "        self.epochs = 5\n",
        "        self.batch_size = 120\n",
        "        self.num_workers = 2\n",
        "        self.device = ('cuda' if torch.cuda.is_available() else 'cpu')\n",
        "        self.alpha = 0.01\n",
        "        self.phase = \"base\"\n",
        "\n",
        "    def toJSON(self):\n",
        "        return json.dumps(self, default=lambda o: o.__dict__, sort_keys=True, indent=4)\n",
        "\n",
        "    def get_model_name(self):\n",
        "        return f\"{self.model_name}_{self.phase}\""
      ]
    },
    {
      "cell_type": "markdown",
      "metadata": {
        "id": "u8MwnK-aAM5r"
      },
      "source": [
        "### experiment helper functions"
      ]
    },
    {
      "cell_type": "code",
      "execution_count": null,
      "metadata": {
        "id": "nOcEgm77xoR1"
      },
      "outputs": [],
      "source": [
        "def train_model(args, model, \n",
        "          train_data, train_labels, \n",
        "          valid_data, valid_labels, \n",
        "          train_weights=None, sample_rate=None, \n",
        "          use_scheduler=True,\n",
        "          history = {\"Train\": {\"Score\": [], \"Loss\": []}, \n",
        "                     \"Valid\": {\"Score\": [], \"Loss\": []}},\n",
        "          mixup_data=None, supervised_mixup_data=None, mixup_idx=None, mixup_rate=None):\n",
        "    \n",
        "    train_dataset = SleepDataset(train_data, train_labels, transform=add_noise, \n",
        "                                 mixup_data=mixup_data, supervised_mixup_data=supervised_mixup_data, \n",
        "                                 mixup_idx=mixup_idx, mixup_rate=mixup_rate)\n",
        "    \n",
        "    if train_weights is not None:\n",
        "        train_sampler = WeightedRandomSampler(weights = train_weights, num_samples=int(len(train_labels)*sample_rate))\n",
        "        train_loader = DataLoader(train_dataset, num_workers=args.num_workers, batch_size=args.batch_size, sampler=train_sampler, drop_last=True)\n",
        "    else:\n",
        "        train_loader = DataLoader(train_dataset, num_workers=args.num_workers, batch_size=args.batch_size, shuffle=True, drop_last=True)\n",
        "\n",
        "    model = model.to(args.device)\n",
        "    criterion = FocalLoss()\n",
        "    optimizer = torch.optim.AdamW(model.parameters(), lr=args.lr, weight_decay=5e-4)\n",
        "\n",
        "    if use_scheduler:\n",
        "        scheduler = torch.optim.lr_scheduler.OneCycleLR(\n",
        "                        optimizer,\n",
        "                        max_lr=args.lr,\n",
        "                        epochs=args.epochs,\n",
        "                        steps_per_epoch=len(train_loader),\n",
        "                        div_factor=10, \n",
        "                        final_div_factor=10,\n",
        "                        pct_start=0.1,\n",
        "                        anneal_strategy=\"cos\",\n",
        "                    )\n",
        "    else:\n",
        "        scheduler = None\n",
        "    \n",
        "    for epoch in range(1, args.epochs+1):\n",
        "        _, _, train_score, train_loss = train_epoch(args, model, train_loader, criterion, optimizer, scheduler, epoch)\n",
        "        _, _, valid_score, valid_loss = validate_model(args, model, valid_data, valid_labels, show_plot=False)\n",
        "\n",
        "        history[\"Train\"][\"Loss\"].append(train_loss)\n",
        "        history[\"Train\"][\"Score\"].append(train_score)\n",
        "        history[\"Valid\"][\"Loss\"].append(valid_loss)\n",
        "        history[\"Valid\"][\"Score\"].append(valid_score)\n",
        "\n",
        "    torch.save(model.state_dict(), f\"{OUTPUT_FOLDER}best_model_{args.get_model_name()}.pt\")\n",
        "\n",
        "\n",
        "def validate_model(args, model, valid_data, valid_labels, desc=\"Target\", show_plot=True):\n",
        "    criterion = FocalLoss()\n",
        "\n",
        "    valid_dataset = SleepDataset(valid_data, valid_labels)\n",
        "    valid_loader = DataLoader(valid_dataset, num_workers=args.num_workers, batch_size=args.batch_size, shuffle=False)\n",
        "    targets_all, outputs_all, output_score, output_loss = validate(args, model, valid_loader, criterion, desc)\n",
        "    \n",
        "    if show_plot:\n",
        "        cf_mat = confusion_matrix(targets_all, np.argmax(outputs_all, axis=1), normalize=\"true\")\n",
        "        plt.figure()\n",
        "        sns.heatmap(cf_mat, annot=True)\n",
        "        plt.show()\n",
        "\n",
        "    return targets_all, outputs_all, output_score, output_loss\n",
        "\n",
        "\n",
        "def get_prediction(args, model, data):\n",
        "    model.to(args.device)\n",
        "    model.load_state_dict(torch.load(f\"{OUTPUT_FOLDER}best_model_{args.get_model_name()}.pt\"))\n",
        "    \n",
        "    dataset = SleepDataset(data, None)\n",
        "    loader = DataLoader(dataset, num_workers=args.num_workers, batch_size=args.batch_size, shuffle=False)\n",
        "\n",
        "    output = predict(args, model, loader)\n",
        "    return output\n",
        "\n",
        "\n",
        "def ensemble(args_array, dataset_name=\"test\", phase=None):\n",
        "    ensemble_output = None\n",
        "\n",
        "    for args in args_array:\n",
        "        if phase is None:\n",
        "            fn = f\"{OUTPUT_FOLDER}{args.get_model_name()}-{dataset_name}_output.npy\"\n",
        "        else:\n",
        "            fn = f\"{OUTPUT_FOLDER}{args.model_name}_{phase}-{dataset_name}_output.npy\"\n",
        "            \n",
        "        output = np.load(fn)\n",
        "        if ensemble_output is None:\n",
        "            ensemble_output = output\n",
        "        else:\n",
        "            ensemble_output += output\n",
        "    \n",
        "    return ensemble_output\n",
        "    \n",
        "\n",
        "def predict_and_save(args, model, target_data, test_data):\n",
        "    target_output = get_prediction(args, model, target_data)\n",
        "    np.save(f\"{OUTPUT_FOLDER}{args.get_model_name()}-target_output.npy\", target_output)\n",
        "    \n",
        "    test_output = get_prediction(args, model, test_data)\n",
        "    np.save(f\"{OUTPUT_FOLDER}{args.get_model_name()}-test_output.npy\", test_output)\n",
        "\n",
        "\n",
        "def plot_history(history):\n",
        "    fig, axes = plt.subplots(2,1, figsize=(22,6))\n",
        "    axes[0].plot(history[\"Train\"][\"Score\"], label=\"Train score\")\n",
        "    axes[0].plot(history[\"Valid\"][\"Score\"], label=\"Valid score\")\n",
        "    axes[0].legend()\n",
        "    axes[1].plot(history[\"Train\"][\"Loss\"], label=\"Train loss\")\n",
        "    axes[1].plot(history[\"Valid\"][\"Loss\"], label=\"Valid loss\")\n",
        "    axes[1].legend()\n",
        "    fig.show()"
      ]
    },
    {
      "cell_type": "markdown",
      "metadata": {
        "id": "bzo9LCObFmVa"
      },
      "source": [
        "### competition data loaders"
      ]
    },
    {
      "cell_type": "code",
      "execution_count": null,
      "metadata": {
        "id": "XqHbajaLFr78"
      },
      "outputs": [],
      "source": [
        "def get_phase_1_data():\n",
        "    source_data, source_subjects = load_data(SOURCE_DATA_FOLDER)\n",
        "    source_data, source_labels = prepare_window_data(source_data, source_subjects)\n",
        "    # calculate stats of source data and normalize it\n",
        "    source_data = np.array(source_data)\n",
        "    source_mean = np.mean(source_data)\n",
        "    source_std = np.std(source_data)\n",
        "    source_data = (source_data - source_mean) / source_std\n",
        "    print(f\"Source mean: {source_mean}, std: {source_std}, min: {np.min(source_data)}, max: {np.max(source_data)}\")\n",
        "    source_data  = list(source_data)\n",
        "    # load and normalize target data\n",
        "    lb_target_data, lb_target_subjects = load_data(LEADERBOARD_TARGET_DATA_FOLDER)\n",
        "    lb_target_data, lb_target_labels = prepare_window_data(lb_target_data, lb_target_subjects)\n",
        "    lb_target_data = normalize(lb_target_data, source_mean, source_std, \"Leadeboard target\")\n",
        "    # load and normalize test data\n",
        "    lb_test_data, lb_test_subjects = load_data(LEADERBOARD_TEST_DATA_FOLDER, load_labels=False)\n",
        "    lb_test_data, lb_test_labels = prepare_window_data(lb_test_data, lb_test_subjects)\n",
        "    lb_test_data = normalize(lb_test_data, source_mean, source_std, \"Leadeboard test\")\n",
        "\n",
        "    return source_data, source_labels, lb_target_data, lb_target_labels, lb_test_data, lb_test_data\n",
        "\n",
        "\n",
        "def get_phase_2_data():\n",
        "    source_data, source_subjects = load_data(SOURCE_DATA_FOLDER)\n",
        "    source_data, source_labels = prepare_window_data(source_data, source_subjects)\n",
        "    # add target data from phase 1 to source data\n",
        "    lb_target_data, lb_target_subjects = load_data(LEADERBOARD_TARGET_DATA_FOLDER)\n",
        "    lb_target_data, lb_target_labels = prepare_window_data(lb_target_data, lb_target_subjects)\n",
        "    # source_data += lb_target_data\n",
        "    # source_labels += lb_target_labels\n",
        "    # calculate stats and normalize\n",
        "    source_data = np.array(source_data)\n",
        "    source_mean = np.mean(source_data)\n",
        "    source_std = np.std(source_data)\n",
        "    source_data = (source_data - source_mean) / source_std\n",
        "    print(f\"Source mean: {source_mean}, std: {source_std}, min: {np.min(source_data)}, max: {np.max(source_data)}\")\n",
        "    source_data  = list(source_data)\n",
        "    # load test data from phase 1 and normalize it\n",
        "    lb_test_data, lb_test_subjects = load_data(LEADERBOARD_TEST_DATA_FOLDER, load_labels=False)\n",
        "    lb_test_data, lb_test_labels = prepare_window_data(lb_test_data, lb_test_subjects)\n",
        "    lb_test_data = normalize(lb_test_data, source_mean, source_std, \"Leadeboard test\")\n",
        "    # load and normalize target data\n",
        "    fn_target_data, fn_target_subjects = load_data(FINAL_TARGET_DATA_FOLDER)\n",
        "    fn_target_data, fn_target_labels = prepare_window_data(fn_target_data, fn_target_subjects)\n",
        "    fn_target_data += lb_target_data\n",
        "    fn_target_labels += lb_target_labels\n",
        "    fn_target_data = normalize(fn_target_data, source_mean, source_std, \"Target\")\n",
        "    # load and normalize test data\n",
        "    fn_test_data, fn_test_subjects = load_data(FINAL_TEST_DATA_FOLDER, load_labels=False)\n",
        "    fn_test_data, fn_test_labels = prepare_window_data(fn_test_data, fn_test_subjects)\n",
        "    fn_test_data = normalize(fn_test_data, source_mean, source_std, \"Final test\")\n",
        "\n",
        "    return source_data, source_labels, fn_target_data, fn_target_labels, fn_test_data, fn_test_data"
      ]
    },
    {
      "cell_type": "markdown",
      "metadata": {
        "id": "JMXg2fEUFsk3"
      },
      "source": [
        "### training pipeline function"
      ]
    },
    {
      "cell_type": "code",
      "execution_count": null,
      "metadata": {
        "id": "s1TkNDtYSVI6"
      },
      "outputs": [],
      "source": [
        "def supervised_run(args, model, train_data, train_labels, target_data, target_labels, test_data, mixup_data=None, supervised_mixup_data=None):\n",
        "    print(args.toJSON())\n",
        "\n",
        "    history = {\"Train\": {\"Score\": [], \"Loss\": []}, \n",
        "               \"Valid\": {\"Score\": [], \"Loss\": []}}\n",
        "\n",
        "    ############################\n",
        "    ### USE ONLY SOURCE DATA ###\n",
        "    ############################\n",
        "    args.phase = \"base\"\n",
        "\n",
        "    train_model(args, model, \n",
        "                train_data, train_labels, \n",
        "                target_data, target_labels, \n",
        "                mixup_data=mixup_data, mixup_rate=0.,\n",
        "                history=history)\n",
        "    # validate\n",
        "    model.load_state_dict(torch.load(f\"{OUTPUT_FOLDER}best_model_{args.get_model_name()}.pt\"))\n",
        "    print(\"\\n###### PHASE 1 FINISHED ##########\")\n",
        "    validate_model(args, model, target_data, target_labels, \"Target\")\n",
        "    # make predictions and save results\n",
        "    predict_and_save(args, model, target_data, test_data)\n",
        "\n",
        "\n",
        "    ##############################\n",
        "    ### SOURCE DATA WITH SUPERVISED MIXUP ###\n",
        "    ##############################\n",
        "    args.lr = 1e-4\n",
        "    args.epochs = 10\n",
        "    args.phase = \"mixup\"\n",
        "\n",
        "    train_model(args, model, \n",
        "                train_data, train_labels, \n",
        "                target_data, target_labels, \n",
        "                supervised_mixup_data=supervised_mixup_data, mixup_rate=0.6,\n",
        "                history=history)\n",
        "    # validate\n",
        "    model.load_state_dict(torch.load(f\"{OUTPUT_FOLDER}best_model_{args.get_model_name()}.pt\"))\n",
        "    print(\"\\n###### PHASE 2 FINISHED ##########\")\n",
        "    validate_model(args, model, target_data, target_labels, \"Target\")\n",
        "    # make predictions and save results\n",
        "    predict_and_save(args, model, target_data, test_data)\n",
        "\n",
        "    ###############################\n",
        "    ### FINETUNE ON TARGET DATA WITH MIXED UP SOURCE ###\n",
        "    ###############################\n",
        "    args.lr = 1e-3\n",
        "    args.epochs = 20\n",
        "    args.phase = \"mixup_finetuned\"\n",
        "    # prepare extended train data with sampler settings\n",
        "    extended_train_data = train_data + target_data\n",
        "    extended_train_labels = train_labels + target_labels\n",
        "    train_weights = [0.25] * len(train_labels) + [0.75] * len(target_labels)\n",
        "    mixup_idx = [True] * len(train_labels) + [False] * len(target_labels)\n",
        "    train_sample_rate = 0.5\n",
        "\n",
        "    train_model(args, model, \n",
        "                extended_train_data, extended_train_labels,\n",
        "                target_data, target_labels,\n",
        "                train_weights = train_weights, sample_rate=train_sample_rate,\n",
        "                mixup_data=mixup_data, mixup_idx=mixup_idx, mixup_rate=0.4,\n",
        "                use_scheduler=True, history=history)\n",
        "    \n",
        "    # validate\n",
        "    model.load_state_dict(torch.load(f\"{OUTPUT_FOLDER}best_model_{args.get_model_name()}.pt\"))\n",
        "    print(\"\\n###### PHASE 3 FINISHED ##########\")\n",
        "    validate_model(args, model, target_data, target_labels, \"Target\")\n",
        "    # make predictions and save results\n",
        "    predict_and_save(args, model, target_data, test_data)\n",
        "    # plot training history\n",
        "    plot_history(history)"
      ]
    },
    {
      "cell_type": "markdown",
      "metadata": {
        "id": "FEjmRhhGF4yL"
      },
      "source": [
        "### training"
      ]
    },
    {
      "cell_type": "code",
      "execution_count": null,
      "metadata": {
        "colab": {
          "base_uri": "https://localhost:8080/"
        },
        "id": "KydYNDzJJF6r",
        "outputId": "8cd2f1ab-53d0-40ed-d683-a54f707cc03d"
      },
      "outputs": [
        {
          "name": "stdout",
          "output_type": "stream",
          "text": [
            "Loading data from folder: /home/data/SleepSource/ (157 files) - Load labels True\n"
          ]
        },
        {
          "name": "stderr",
          "output_type": "stream",
          "text": [
            "\r  0%|          | 0/157 [00:00<?, ?it/s]"
          ]
        },
        {
          "name": "stdout",
          "output_type": "stream",
          "text": [
            "<Info | 8 non-empty values\n",
            " bads: []\n",
            " ch_names: Fpz-Cz, Pz-Oz\n",
            " chs: 2 EEG\n",
            " custom_ref_applied: False\n",
            " highpass: 0.5 Hz\n",
            " lowpass: 100.0 Hz\n",
            " meas_date: 1991-09-26 15:00:00 UTC\n",
            " nchan: 2\n",
            " projs: []\n",
            " sfreq: 100.0 Hz\n",
            " subject_info: 2 items (dict)\n",
            ">\n"
          ]
        },
        {
          "name": "stderr",
          "output_type": "stream",
          "text": [
            "100%|██████████| 157/157 [01:52<00:00,  1.39it/s]\n"
          ]
        },
        {
          "name": "stdout",
          "output_type": "stream",
          "text": [
            "Loaded total 90545 samples for subjects: [ 0  1  2  3  4  5  6  7  8  9 10 11 12 13 14 15 16 17 18 19 20 21 22 23\n",
            " 24 25 26 27 28 29 30 31 32 33 34 35 36 37 38]\n"
          ]
        },
        {
          "name": "stderr",
          "output_type": "stream",
          "text": [
            "100%|██████████| 39/39 [00:00<00:00, 1583.43it/s]\n"
          ]
        },
        {
          "name": "stdout",
          "output_type": "stream",
          "text": [
            "Loading data from folder: /home/data/LeaderboardSleep/sleep_target/ (25 files) - Load labels True\n"
          ]
        },
        {
          "name": "stderr",
          "output_type": "stream",
          "text": [
            "\r  0%|          | 0/25 [00:00<?, ?it/s]"
          ]
        },
        {
          "name": "stdout",
          "output_type": "stream",
          "text": [
            "<Info | 8 non-empty values\n",
            " bads: []\n",
            " ch_names: Fpz-Cz, Pz-Oz\n",
            " chs: 2 EEG\n",
            " custom_ref_applied: False\n",
            " highpass: 0.5 Hz\n",
            " lowpass: 100.0 Hz\n",
            " meas_date: 1990-03-13 15:09:00 UTC\n",
            " nchan: 2\n",
            " projs: []\n",
            " sfreq: 100.0 Hz\n",
            " subject_info: 2 items (dict)\n",
            ">\n"
          ]
        },
        {
          "name": "stderr",
          "output_type": "stream",
          "text": [
            "100%|██████████| 25/25 [00:19<00:00,  1.29it/s]\n"
          ]
        },
        {
          "name": "stdout",
          "output_type": "stream",
          "text": [
            "Loaded total 15442 samples for subjects: [0 1 2 3 4 5]\n"
          ]
        },
        {
          "name": "stderr",
          "output_type": "stream",
          "text": [
            "100%|██████████| 6/6 [00:00<00:00, 1502.44it/s]\n"
          ]
        },
        {
          "name": "stdout",
          "output_type": "stream",
          "text": [
            "Source mean: -2.175762164676705e-07, std: 1.6836217270029333e-05, min: -14.7172265485441, max: 12.426637935405019\n",
            "Loading data from folder: /home/data/LeaderboardSleep/testing/ (24 files) - Load labels False\n"
          ]
        },
        {
          "name": "stderr",
          "output_type": "stream",
          "text": [
            "100%|██████████| 24/24 [00:32<00:00,  1.35s/it]\n"
          ]
        },
        {
          "name": "stdout",
          "output_type": "stream",
          "text": [
            "Loaded total 25748 samples for subjects: [ 6  7  8  9 10 11 12 13 14 15 16 17]\n"
          ]
        },
        {
          "name": "stderr",
          "output_type": "stream",
          "text": [
            "100%|██████████| 12/12 [00:00<00:00, 2770.50it/s]\n"
          ]
        },
        {
          "name": "stdout",
          "output_type": "stream",
          "text": [
            "Leadeboard test mean: 0.014119353426048422, std: 0.8645048345254686, min: -11.985021370728651, max: 11.832680288053835\n",
            "Loading data from folder: /home/data/finalSleep/sleep_target/ (20 files) - Load labels True\n"
          ]
        },
        {
          "name": "stderr",
          "output_type": "stream",
          "text": [
            "100%|██████████| 20/20 [00:20<00:00,  1.03s/it]\n"
          ]
        },
        {
          "name": "stdout",
          "output_type": "stream",
          "text": [
            "Loaded total 16568 samples for subjects: [0 1 2 3 4]\n"
          ]
        },
        {
          "name": "stderr",
          "output_type": "stream",
          "text": [
            "100%|██████████| 5/5 [00:00<00:00, 997.46it/s]\n"
          ]
        },
        {
          "name": "stdout",
          "output_type": "stream",
          "text": [
            "Target mean: 0.031174427319106832, std: 0.9668677818534862, min: -11.866229841258413, max: 12.010867582259191\n",
            "Loading data from folder: /home/data/finalSleep/testing/ (18 files) - Load labels False\n"
          ]
        },
        {
          "name": "stderr",
          "output_type": "stream",
          "text": [
            "100%|██████████| 18/18 [00:32<00:00,  1.79s/it]\n"
          ]
        },
        {
          "name": "stdout",
          "output_type": "stream",
          "text": [
            "Loaded total 25756 samples for subjects: [ 5  6  7  8  9 10 11 12 13]\n"
          ]
        },
        {
          "name": "stderr",
          "output_type": "stream",
          "text": [
            "100%|██████████| 9/9 [00:00<00:00, 2231.28it/s]\n"
          ]
        },
        {
          "name": "stdout",
          "output_type": "stream",
          "text": [
            "Final test mean: 0.04296289931340894, std: 0.8598280113936251, min: -12.282000194404242, max: 11.713888758583598\n"
          ]
        }
      ],
      "source": [
        "source_data, source_labels, target_data, target_labels, test_data, mixup_data = get_phase_2_data()"
      ]
    },
    {
      "cell_type": "code",
      "execution_count": null,
      "metadata": {
        "colab": {
          "base_uri": "https://localhost:8080/"
        },
        "id": "MFMIOOcXi8s_",
        "outputId": "9e377104-6232-46f7-81d5-ac067ede64e2"
      },
      "outputs": [
        {
          "name": "stdout",
          "output_type": "stream",
          "text": [
            "0 (13819, 2, 3000)\n",
            "1 (3311, 2, 3000)\n",
            "2 (9739, 2, 3000)\n",
            "3 (1393, 2, 3000)\n",
            "4 (559, 2, 3000)\n",
            "5 (3189, 2, 3000)\n"
          ]
        }
      ],
      "source": [
        "tmp = np.array(target_data)\n",
        "supervised_mixup_data = {}\n",
        "for c in np.unique(target_labels):\n",
        "    supervised_mixup_data[c] = tmp[target_labels == c]\n",
        "    print(c, np.shape(supervised_mixup_data[c]))\n",
        "\n",
        "del tmp"
      ]
    },
    {
      "cell_type": "code",
      "execution_count": null,
      "metadata": {
        "colab": {
          "base_uri": "https://localhost:8080/",
          "height": 1000
        },
        "id": "oY5ZcUnXF6W_",
        "outputId": "43c6399f-f198-4520-a92c-2eb57bd6d531"
      },
      "outputs": [
        {
          "name": "stdout",
          "output_type": "stream",
          "text": [
            "{\n",
            "    \"alpha\": 0.01,\n",
            "    \"batch_size\": 120,\n",
            "    \"device\": \"cuda\",\n",
            "    \"epochs\": 5,\n",
            "    \"lr\": 0.001,\n",
            "    \"model_name\": \"eeg-classifier_seed-42\",\n",
            "    \"num_workers\": 2,\n",
            "    \"phase\": \"base\",\n",
            "    \"seed\": 42\n",
            "}\n"
          ]
        },
        {
          "name": "stderr",
          "output_type": "stream",
          "text": [
            "\r  0%|          | 0/754 [00:00<?, ?it/s]/usr/local/lib/python3.7/dist-packages/torch/nn/functional.py:652: UserWarning: Named tensors and all their associated APIs are an experimental feature and subject to change. Please do not use them for anything important until they are released as stable. (Triggered internally at  /pytorch/c10/core/TensorImpl.h:1156.)\n",
            "  return torch.max_pool1d(input, kernel_size, stride, padding, dilation, ceil_mode)\n",
            "Epoch 1/5 - Train loss: 0.0521, score: 0.7450: 100%|██████████| 754/754 [02:37<00:00,  4.78it/s]\n",
            "\t  - Target loss: 0.0413, score: 0.7987: 100%|██████████| 267/267 [00:09<00:00, 29.02it/s]\n",
            "Epoch 2/5 - Train loss: 0.0401, score: 0.8061: 100%|██████████| 754/754 [02:39<00:00,  4.74it/s]\n",
            "\t  - Target loss: 0.0416, score: 0.7923: 100%|██████████| 267/267 [00:09<00:00, 29.09it/s]\n",
            "Epoch 3/5 - Train loss: 0.0379, score: 0.8176: 100%|██████████| 754/754 [02:39<00:00,  4.71it/s]\n",
            "\t  - Target loss: 0.0422, score: 0.7889: 100%|██████████| 267/267 [00:09<00:00, 27.94it/s]\n",
            "Epoch 4/5 - Train loss: 0.0359, score: 0.8286: 100%|██████████| 754/754 [02:40<00:00,  4.70it/s]\n",
            "\t  - Target loss: 0.0407, score: 0.7973: 100%|██████████| 267/267 [00:09<00:00, 28.68it/s]\n",
            "Epoch 5/5 - Train loss: 0.0343, score: 0.8376: 100%|██████████| 754/754 [02:39<00:00,  4.72it/s]\n",
            "\t  - Target loss: 0.0408, score: 0.7994: 100%|██████████| 267/267 [00:09<00:00, 28.91it/s]\n"
          ]
        },
        {
          "name": "stdout",
          "output_type": "stream",
          "text": [
            "\n",
            "###### PHASE 1 FINISHED ##########\n"
          ]
        },
        {
          "name": "stderr",
          "output_type": "stream",
          "text": [
            "\t  - Target loss: 0.0408, score: 0.7994: 100%|██████████| 267/267 [00:09<00:00, 27.17it/s]\n"
          ]
        },
        {
          "data": {
            "image/png": "[encoded data removed]",
            "text/plain": [
              "<Figure size 432x288 with 2 Axes>"
            ]
          },
          "metadata": {
            "needs_background": "light"
          },
          "output_type": "display_data"
        },
        {
          "name": "stderr",
          "output_type": "stream",
          "text": [
            "100%|██████████| 267/267 [00:05<00:00, 48.72it/s]\n",
            "100%|██████████| 215/215 [00:04<00:00, 47.35it/s]\n",
            "Epoch 1/10 - Train loss: 0.0322, score: 0.8506: 100%|██████████| 754/754 [02:38<00:00,  4.74it/s]\n",
            "\t  - Target loss: 0.0384, score: 0.8102: 100%|██████████| 267/267 [00:08<00:00, 29.87it/s]\n",
            "Epoch 2/10 - Train loss: 0.0317, score: 0.8536: 100%|██████████| 754/754 [02:38<00:00,  4.74it/s]\n",
            "\t  - Target loss: 0.0387, score: 0.8093: 100%|██████████| 267/267 [00:09<00:00, 29.37it/s]\n",
            "Epoch 3/10 - Train loss: 0.0314, score: 0.8568: 100%|██████████| 754/754 [02:39<00:00,  4.72it/s]\n",
            "\t  - Target loss: 0.0395, score: 0.8103: 100%|██████████| 267/267 [00:09<00:00, 28.91it/s]\n",
            "Epoch 4/10 - Train loss: 0.0310, score: 0.8561: 100%|██████████| 754/754 [02:40<00:00,  4.70it/s]\n",
            "\t  - Target loss: 0.0392, score: 0.8087: 100%|██████████| 267/267 [00:09<00:00, 27.41it/s]\n",
            "Epoch 5/10 - Train loss: 0.0305, score: 0.8608: 100%|██████████| 754/754 [02:40<00:00,  4.71it/s]\n",
            "\t  - Target loss: 0.0374, score: 0.8134: 100%|██████████| 267/267 [00:09<00:00, 27.59it/s]\n",
            "Epoch 6/10 - Train loss: 0.0301, score: 0.8617: 100%|██████████| 754/754 [02:40<00:00,  4.70it/s]\n",
            "\t  - Target loss: 0.0376, score: 0.8129: 100%|██████████| 267/267 [00:09<00:00, 28.08it/s]\n",
            "Epoch 7/10 - Train loss: 0.0299, score: 0.8619: 100%|██████████| 754/754 [02:41<00:00,  4.66it/s]\n",
            "\t  - Target loss: 0.0377, score: 0.8155: 100%|██████████| 267/267 [00:09<00:00, 27.39it/s]\n",
            "Epoch 8/10 - Train loss: 0.0298, score: 0.8634: 100%|██████████| 754/754 [02:41<00:00,  4.67it/s]\n",
            "\t  - Target loss: 0.0372, score: 0.8161: 100%|██████████| 267/267 [00:09<00:00, 27.59it/s]\n",
            "Epoch 9/10 - Train loss: 0.0296, score: 0.8644: 100%|██████████| 754/754 [02:42<00:00,  4.65it/s]\n",
            "\t  - Target loss: 0.0390, score: 0.8060: 100%|██████████| 267/267 [00:10<00:00, 26.63it/s]\n",
            "Epoch 10/10 - Train loss: 0.0298, score: 0.8637: 100%|██████████| 754/754 [02:43<00:00,  4.61it/s]\n",
            "\t  - Target loss: 0.0370, score: 0.8170: 100%|██████████| 267/267 [00:10<00:00, 25.92it/s]\n"
          ]
        },
        {
          "name": "stdout",
          "output_type": "stream",
          "text": [
            "\n",
            "###### PHASE 2 FINISHED ##########\n"
          ]
        },
        {
          "name": "stderr",
          "output_type": "stream",
          "text": [
            "\t  - Target loss: 0.0370, score: 0.8170: 100%|██████████| 267/267 [00:10<00:00, 24.37it/s]\n"
          ]
        },
        {
          "data": {
            "image/png": "[encoded data removed]",
            "text/plain": [
              "<Figure size 432x288 with 2 Axes>"
            ]
          },
          "metadata": {
            "needs_background": "light"
          },
          "output_type": "display_data"
        },
        {
          "name": "stderr",
          "output_type": "stream",
          "text": [
            "100%|██████████| 267/267 [00:05<00:00, 47.40it/s]\n",
            "100%|██████████| 215/215 [00:04<00:00, 46.95it/s]\n",
            "Epoch 1/20 - Train loss: 0.0398, score: 0.8065: 100%|██████████| 510/510 [01:46<00:00,  4.81it/s]\n",
            "\t  - Target loss: 0.0351, score: 0.8268: 100%|██████████| 267/267 [00:09<00:00, 27.35it/s]\n",
            "Epoch 2/20 - Train loss: 0.0403, score: 0.8038: 100%|██████████| 510/510 [01:45<00:00,  4.86it/s]\n",
            "\t  - Target loss: 0.0344, score: 0.8341: 100%|██████████| 267/267 [00:09<00:00, 26.79it/s]\n",
            "Epoch 3/20 - Train loss: 0.0397, score: 0.8042: 100%|██████████| 510/510 [01:45<00:00,  4.85it/s]\n",
            "\t  - Target loss: 0.0337, score: 0.8347: 100%|██████████| 267/267 [00:09<00:00, 27.58it/s]\n",
            "Epoch 4/20 - Train loss: 0.0388, score: 0.8110: 100%|██████████| 510/510 [01:45<00:00,  4.82it/s]\n",
            "\t  - Target loss: 0.0317, score: 0.8457: 100%|██████████| 267/267 [00:09<00:00, 27.55it/s]\n",
            "Epoch 5/20 - Train loss: 0.0384, score: 0.8133: 100%|██████████| 510/510 [01:45<00:00,  4.84it/s]\n",
            "\t  - Target loss: 0.0322, score: 0.8460: 100%|██████████| 267/267 [00:09<00:00, 27.50it/s]\n",
            "Epoch 6/20 - Train loss: 0.0376, score: 0.8170: 100%|██████████| 510/510 [01:45<00:00,  4.83it/s]\n",
            "\t  - Target loss: 0.0315, score: 0.8502: 100%|██████████| 267/267 [00:09<00:00, 27.37it/s]\n",
            "Epoch 7/20 - Train loss: 0.0372, score: 0.8206: 100%|██████████| 510/510 [01:45<00:00,  4.84it/s]\n",
            "\t  - Target loss: 0.0311, score: 0.8471: 100%|██████████| 267/267 [00:09<00:00, 28.18it/s]\n",
            "Epoch 8/20 - Train loss: 0.0365, score: 0.8249: 100%|██████████| 510/510 [01:45<00:00,  4.84it/s]\n",
            "\t  - Target loss: 0.0300, score: 0.8540: 100%|██████████| 267/267 [00:10<00:00, 25.58it/s]\n",
            "Epoch 9/20 - Train loss: 0.0362, score: 0.8267: 100%|██████████| 510/510 [01:45<00:00,  4.85it/s]\n",
            "\t  - Target loss: 0.0297, score: 0.8570: 100%|██████████| 267/267 [00:09<00:00, 27.59it/s]\n",
            "Epoch 10/20 - Train loss: 0.0353, score: 0.8304: 100%|██████████| 510/510 [01:45<00:00,  4.83it/s]\n",
            "\t  - Target loss: 0.0288, score: 0.8683: 100%|██████████| 267/267 [00:09<00:00, 26.93it/s]\n",
            "Epoch 11/20 - Train loss: 0.0351, score: 0.8313: 100%|██████████| 510/510 [01:45<00:00,  4.82it/s]\n",
            "\t  - Target loss: 0.0280, score: 0.8672: 100%|██████████| 267/267 [00:09<00:00, 26.71it/s]\n",
            "Epoch 12/20 - Train loss: 0.0342, score: 0.8366: 100%|██████████| 510/510 [01:45<00:00,  4.85it/s]\n",
            "\t  - Target loss: 0.0263, score: 0.8781: 100%|██████████| 267/267 [00:09<00:00, 27.93it/s]\n",
            "Epoch 13/20 - Train loss: 0.0338, score: 0.8391: 100%|██████████| 510/510 [01:44<00:00,  4.86it/s]\n",
            "\t  - Target loss: 0.0259, score: 0.8794: 100%|██████████| 267/267 [00:09<00:00, 27.33it/s]\n",
            "Epoch 14/20 - Train loss: 0.0329, score: 0.8431: 100%|██████████| 510/510 [01:45<00:00,  4.84it/s]\n",
            "\t  - Target loss: 0.0258, score: 0.8783: 100%|██████████| 267/267 [00:09<00:00, 26.91it/s]\n",
            "Epoch 15/20 - Train loss: 0.0327, score: 0.8441: 100%|██████████| 510/510 [01:45<00:00,  4.85it/s]\n",
            "\t  - Target loss: 0.0254, score: 0.8809: 100%|██████████| 267/267 [00:09<00:00, 26.93it/s]\n",
            "Epoch 16/20 - Train loss: 0.0325, score: 0.8481: 100%|██████████| 510/510 [01:44<00:00,  4.88it/s]\n",
            "\t  - Target loss: 0.0242, score: 0.8889: 100%|██████████| 267/267 [00:09<00:00, 27.89it/s]\n",
            "Epoch 17/20 - Train loss: 0.0321, score: 0.8496: 100%|██████████| 510/510 [01:44<00:00,  4.86it/s]\n",
            "\t  - Target loss: 0.0247, score: 0.8846: 100%|██████████| 267/267 [00:09<00:00, 27.22it/s]\n",
            "Epoch 18/20 - Train loss: 0.0315, score: 0.8519: 100%|██████████| 510/510 [01:45<00:00,  4.84it/s]\n",
            "\t  - Target loss: 0.0243, score: 0.8868: 100%|██████████| 267/267 [00:09<00:00, 26.99it/s]\n",
            "Epoch 19/20 - Train loss: 0.0315, score: 0.8529: 100%|██████████| 510/510 [01:45<00:00,  4.84it/s]\n",
            "\t  - Target loss: 0.0240, score: 0.8880: 100%|██████████| 267/267 [00:09<00:00, 27.56it/s]\n",
            "Epoch 20/20 - Train loss: 0.0315, score: 0.8528: 100%|██████████| 510/510 [01:44<00:00,  4.87it/s]\n",
            "\t  - Target loss: 0.0234, score: 0.8928: 100%|██████████| 267/267 [00:09<00:00, 28.20it/s]\n"
          ]
        },
        {
          "name": "stdout",
          "output_type": "stream",
          "text": [
            "\n",
            "###### PHASE 3 FINISHED ##########\n"
          ]
        },
        {
          "name": "stderr",
          "output_type": "stream",
          "text": [
            "\t  - Target loss: 0.0234, score: 0.8928: 100%|██████████| 267/267 [00:09<00:00, 27.39it/s]\n"
          ]
        },
        {
          "data": {
            "image/png": "[encoded data removed]",
            "text/plain": [
              "<Figure size 432x288 with 2 Axes>"
            ]
          },
          "metadata": {
            "needs_background": "light"
          },
          "output_type": "display_data"
        },
        {
          "name": "stderr",
          "output_type": "stream",
          "text": [
            "100%|██████████| 267/267 [00:05<00:00, 49.23it/s]\n",
            "100%|██████████| 215/215 [00:04<00:00, 48.38it/s]\n"
          ]
        },
        {
          "data": {
            "image/png": "[encoded data removed]",
            "text/plain": [
              "<Figure size 1584x432 with 2 Axes>"
            ]
          },
          "metadata": {
            "needs_background": "light"
          },
          "output_type": "display_data"
        }
      ],
      "source": [
        "args_array = []\n",
        "args = base_args(\"eeg-classifier_seed-42\")\n",
        "seed_everything(args.seed)\n",
        "model = EEGClassifier()\n",
        "supervised_run(args, model, source_data, source_labels, target_data, target_labels, test_data, mixup_data=mixup_data, supervised_mixup_data=supervised_mixup_data)\n",
        "args_array.append(args)"
      ]
    },
    {
      "cell_type": "code",
      "execution_count": null,
      "metadata": {
        "colab": {
          "base_uri": "https://localhost:8080/",
          "height": 1000
        },
        "id": "hakoBOz7Poz5",
        "outputId": "67df2086-1722-4022-c571-edc93de6377e"
      },
      "outputs": [
        {
          "name": "stdout",
          "output_type": "stream",
          "text": [
            "{\n",
            "    \"alpha\": 0.01,\n",
            "    \"batch_size\": 120,\n",
            "    \"device\": \"cuda\",\n",
            "    \"epochs\": 5,\n",
            "    \"lr\": 0.001,\n",
            "    \"model_name\": \"eeg-classifier_seed-2021\",\n",
            "    \"num_workers\": 2,\n",
            "    \"phase\": \"base\",\n",
            "    \"seed\": 2021\n",
            "}\n"
          ]
        },
        {
          "name": "stderr",
          "output_type": "stream",
          "text": [
            "Epoch 1/5 - Train loss: 0.0520, score: 0.7444: 100%|██████████| 754/754 [02:40<00:00,  4.70it/s]\n",
            "\t  - Target loss: 0.0421, score: 0.7869: 100%|██████████| 267/267 [00:09<00:00, 29.62it/s]\n",
            "Epoch 2/5 - Train loss: 0.0402, score: 0.8066: 100%|██████████| 754/754 [02:40<00:00,  4.70it/s]\n",
            "\t  - Target loss: 0.0419, score: 0.7846: 100%|██████████| 267/267 [00:08<00:00, 29.73it/s]\n",
            "Epoch 3/5 - Train loss: 0.0379, score: 0.8167: 100%|██████████| 754/754 [02:40<00:00,  4.70it/s]\n",
            "\t  - Target loss: 0.0406, score: 0.7972: 100%|██████████| 267/267 [00:08<00:00, 30.07it/s]\n",
            "Epoch 4/5 - Train loss: 0.0361, score: 0.8262: 100%|██████████| 754/754 [02:41<00:00,  4.67it/s]\n",
            "\t  - Target loss: 0.0409, score: 0.7935: 100%|██████████| 267/267 [00:08<00:00, 29.71it/s]\n",
            "Epoch 5/5 - Train loss: 0.0345, score: 0.8359: 100%|██████████| 754/754 [02:41<00:00,  4.67it/s]\n",
            "\t  - Target loss: 0.0413, score: 0.7929: 100%|██████████| 267/267 [00:09<00:00, 28.77it/s]\n"
          ]
        },
        {
          "name": "stdout",
          "output_type": "stream",
          "text": [
            "\n",
            "###### PHASE 1 FINISHED ##########\n"
          ]
        },
        {
          "name": "stderr",
          "output_type": "stream",
          "text": [
            "\t  - Target loss: 0.0413, score: 0.7929: 100%|██████████| 267/267 [00:09<00:00, 27.01it/s]\n"
          ]
        },
        {
          "data": {
            "image/png": "[encoded data removed]",
            "text/plain": [
              "<Figure size 432x288 with 2 Axes>"
            ]
          },
          "metadata": {
            "needs_background": "light"
          },
          "output_type": "display_data"
        },
        {
          "name": "stderr",
          "output_type": "stream",
          "text": [
            "100%|██████████| 267/267 [00:05<00:00, 48.54it/s]\n",
            "100%|██████████| 215/215 [00:04<00:00, 48.07it/s]\n",
            "Epoch 1/10 - Train loss: 0.0325, score: 0.8477: 100%|██████████| 754/754 [02:40<00:00,  4.69it/s]\n",
            "\t  - Target loss: 0.0393, score: 0.8051: 100%|██████████| 267/267 [00:09<00:00, 28.38it/s]\n",
            "Epoch 2/10 - Train loss: 0.0319, score: 0.8506: 100%|██████████| 754/754 [02:43<00:00,  4.62it/s]\n",
            "\t  - Target loss: 0.0391, score: 0.8078: 100%|██████████| 267/267 [00:09<00:00, 27.75it/s]\n",
            "Epoch 3/10 - Train loss: 0.0316, score: 0.8533: 100%|██████████| 754/754 [02:43<00:00,  4.62it/s]\n",
            "\t  - Target loss: 0.0387, score: 0.8069: 100%|██████████| 267/267 [00:09<00:00, 27.87it/s]\n",
            "Epoch 4/10 - Train loss: 0.0311, score: 0.8564: 100%|██████████| 754/754 [02:42<00:00,  4.63it/s]\n",
            "\t  - Target loss: 0.0386, score: 0.8046: 100%|██████████| 267/267 [00:09<00:00, 28.08it/s]\n",
            "Epoch 5/10 - Train loss: 0.0308, score: 0.8569: 100%|██████████| 754/754 [02:41<00:00,  4.66it/s]\n",
            "\t  - Target loss: 0.0376, score: 0.8105: 100%|██████████| 267/267 [00:09<00:00, 28.17it/s]\n",
            "Epoch 6/10 - Train loss: 0.0307, score: 0.8594: 100%|██████████| 754/754 [02:42<00:00,  4.63it/s]\n",
            "\t  - Target loss: 0.0375, score: 0.8114: 100%|██████████| 267/267 [00:09<00:00, 27.93it/s]\n",
            "Epoch 7/10 - Train loss: 0.0302, score: 0.8610: 100%|██████████| 754/754 [02:42<00:00,  4.63it/s]\n",
            "\t  - Target loss: 0.0369, score: 0.8166: 100%|██████████| 267/267 [00:09<00:00, 28.98it/s]\n",
            "Epoch 8/10 - Train loss: 0.0301, score: 0.8611: 100%|██████████| 754/754 [02:43<00:00,  4.62it/s]\n",
            "\t  - Target loss: 0.0369, score: 0.8153: 100%|██████████| 267/267 [00:09<00:00, 27.07it/s]\n",
            "Epoch 9/10 - Train loss: 0.0300, score: 0.8609: 100%|██████████| 754/754 [02:41<00:00,  4.66it/s]\n",
            "\t  - Target loss: 0.0380, score: 0.8101: 100%|██████████| 267/267 [00:09<00:00, 28.54it/s]\n",
            "Epoch 10/10 - Train loss: 0.0300, score: 0.8606: 100%|██████████| 754/754 [02:41<00:00,  4.66it/s]\n",
            "\t  - Target loss: 0.0370, score: 0.8154: 100%|██████████| 267/267 [00:09<00:00, 28.25it/s]\n"
          ]
        },
        {
          "name": "stdout",
          "output_type": "stream",
          "text": [
            "\n",
            "###### PHASE 2 FINISHED ##########\n"
          ]
        },
        {
          "name": "stderr",
          "output_type": "stream",
          "text": [
            "\t  - Target loss: 0.0370, score: 0.8154: 100%|██████████| 267/267 [00:10<00:00, 26.67it/s]\n"
          ]
        },
        {
          "data": {
            "image/png": "[encoded data removed]",
            "text/plain": [
              "<Figure size 432x288 with 2 Axes>"
            ]
          },
          "metadata": {
            "needs_background": "light"
          },
          "output_type": "display_data"
        },
        {
          "name": "stderr",
          "output_type": "stream",
          "text": [
            "100%|██████████| 267/267 [00:05<00:00, 48.36it/s]\n",
            "100%|██████████| 215/215 [00:04<00:00, 48.23it/s]\n",
            "Epoch 1/20 - Train loss: 0.0399, score: 0.8069: 100%|██████████| 510/510 [01:46<00:00,  4.79it/s]\n",
            "\t  - Target loss: 0.0387, score: 0.8068: 100%|██████████| 267/267 [00:09<00:00, 28.03it/s]\n",
            "Epoch 2/20 - Train loss: 0.0403, score: 0.8027: 100%|██████████| 510/510 [01:46<00:00,  4.77it/s]\n",
            "\t  - Target loss: 0.0349, score: 0.8380: 100%|██████████| 267/267 [00:09<00:00, 27.45it/s]\n",
            "Epoch 3/20 - Train loss: 0.0392, score: 0.8103: 100%|██████████| 510/510 [01:46<00:00,  4.78it/s]\n",
            "\t  - Target loss: 0.0339, score: 0.8290: 100%|██████████| 267/267 [00:09<00:00, 28.12it/s]\n",
            "Epoch 4/20 - Train loss: 0.0385, score: 0.8145: 100%|██████████| 510/510 [01:46<00:00,  4.77it/s]\n",
            "\t  - Target loss: 0.0326, score: 0.8404: 100%|██████████| 267/267 [00:09<00:00, 28.35it/s]\n",
            "Epoch 5/20 - Train loss: 0.0383, score: 0.8154: 100%|██████████| 510/510 [01:45<00:00,  4.84it/s]\n",
            "\t  - Target loss: 0.0340, score: 0.8295: 100%|██████████| 267/267 [00:09<00:00, 28.28it/s]\n",
            "Epoch 6/20 - Train loss: 0.0378, score: 0.8156: 100%|██████████| 510/510 [01:45<00:00,  4.84it/s]\n",
            "\t  - Target loss: 0.0361, score: 0.8271: 100%|██████████| 267/267 [00:09<00:00, 28.63it/s]\n",
            "Epoch 7/20 - Train loss: 0.0375, score: 0.8183: 100%|██████████| 510/510 [01:45<00:00,  4.82it/s]\n",
            "\t  - Target loss: 0.0312, score: 0.8537: 100%|██████████| 267/267 [00:09<00:00, 28.31it/s]\n",
            "Epoch 8/20 - Train loss: 0.0363, score: 0.8245: 100%|██████████| 510/510 [01:45<00:00,  4.83it/s]\n",
            "\t  - Target loss: 0.0305, score: 0.8454: 100%|██████████| 267/267 [00:09<00:00, 28.29it/s]\n",
            "Epoch 9/20 - Train loss: 0.0364, score: 0.8232: 100%|██████████| 510/510 [01:45<00:00,  4.83it/s]\n",
            "\t  - Target loss: 0.0289, score: 0.8654: 100%|██████████| 267/267 [00:09<00:00, 28.35it/s]\n",
            "Epoch 10/20 - Train loss: 0.0357, score: 0.8290: 100%|██████████| 510/510 [01:45<00:00,  4.84it/s]\n",
            "\t  - Target loss: 0.0289, score: 0.8633: 100%|██████████| 267/267 [00:09<00:00, 28.00it/s]\n",
            "Epoch 11/20 - Train loss: 0.0350, score: 0.8324: 100%|██████████| 510/510 [01:45<00:00,  4.85it/s]\n",
            "\t  - Target loss: 0.0292, score: 0.8550: 100%|██████████| 267/267 [00:09<00:00, 28.27it/s]\n",
            "Epoch 12/20 - Train loss: 0.0343, score: 0.8358: 100%|██████████| 510/510 [01:45<00:00,  4.83it/s]\n",
            "\t  - Target loss: 0.0261, score: 0.8798: 100%|██████████| 267/267 [00:09<00:00, 27.52it/s]\n",
            "Epoch 13/20 - Train loss: 0.0340, score: 0.8380: 100%|██████████| 510/510 [01:45<00:00,  4.81it/s]\n",
            "\t  - Target loss: 0.0260, score: 0.8803: 100%|██████████| 267/267 [00:09<00:00, 27.67it/s]\n",
            "Epoch 14/20 - Train loss: 0.0332, score: 0.8416: 100%|██████████| 510/510 [01:45<00:00,  4.82it/s]\n",
            "\t  - Target loss: 0.0258, score: 0.8786: 100%|██████████| 267/267 [00:09<00:00, 27.79it/s]\n",
            "Epoch 15/20 - Train loss: 0.0328, score: 0.8446: 100%|██████████| 510/510 [01:45<00:00,  4.82it/s]\n",
            "\t  - Target loss: 0.0250, score: 0.8835: 100%|██████████| 267/267 [00:09<00:00, 27.50it/s]\n",
            "Epoch 16/20 - Train loss: 0.0320, score: 0.8499: 100%|██████████| 510/510 [01:46<00:00,  4.80it/s]\n",
            "\t  - Target loss: 0.0241, score: 0.8860: 100%|██████████| 267/267 [00:09<00:00, 27.07it/s]\n",
            "Epoch 17/20 - Train loss: 0.0318, score: 0.8502: 100%|██████████| 510/510 [01:46<00:00,  4.79it/s]\n",
            "\t  - Target loss: 0.0238, score: 0.8895: 100%|██████████| 267/267 [00:09<00:00, 26.71it/s]\n",
            "Epoch 18/20 - Train loss: 0.0319, score: 0.8519: 100%|██████████| 510/510 [01:46<00:00,  4.80it/s]\n",
            "\t  - Target loss: 0.0234, score: 0.8933: 100%|██████████| 267/267 [00:09<00:00, 26.83it/s]\n",
            "Epoch 19/20 - Train loss: 0.0315, score: 0.8528: 100%|██████████| 510/510 [01:46<00:00,  4.78it/s]\n",
            "\t  - Target loss: 0.0234, score: 0.8951: 100%|██████████| 267/267 [00:09<00:00, 26.98it/s]\n",
            "Epoch 20/20 - Train loss: 0.0311, score: 0.8542: 100%|██████████| 510/510 [01:46<00:00,  4.78it/s]\n",
            "\t  - Target loss: 0.0232, score: 0.8949: 100%|██████████| 267/267 [00:10<00:00, 26.15it/s]\n"
          ]
        },
        {
          "name": "stdout",
          "output_type": "stream",
          "text": [
            "\n",
            "###### PHASE 3 FINISHED ##########\n"
          ]
        },
        {
          "name": "stderr",
          "output_type": "stream",
          "text": [
            "\t  - Target loss: 0.0232, score: 0.8949: 100%|██████████| 267/267 [00:10<00:00, 26.05it/s]\n"
          ]
        },
        {
          "data": {
            "image/png": "[encoded data removed]",
            "text/plain": [
              "<Figure size 432x288 with 2 Axes>"
            ]
          },
          "metadata": {
            "needs_background": "light"
          },
          "output_type": "display_data"
        },
        {
          "name": "stderr",
          "output_type": "stream",
          "text": [
            "100%|██████████| 267/267 [00:05<00:00, 48.54it/s]\n",
            "100%|██████████| 215/215 [00:04<00:00, 47.79it/s]\n"
          ]
        },
        {
          "data": {
            "image/png": "[encoded data removed]",
            "text/plain": [
              "<Figure size 1584x432 with 2 Axes>"
            ]
          },
          "metadata": {
            "needs_background": "light"
          },
          "output_type": "display_data"
        }
      ],
      "source": [
        "args = base_args(\"eeg-classifier_seed-2021\", seed=2021)\n",
        "seed_everything(args.seed)\n",
        "model = EEGClassifier()\n",
        "supervised_run(args, model, source_data, source_labels, target_data, target_labels, test_data, mixup_data=mixup_data, supervised_mixup_data=supervised_mixup_data)\n",
        "args_array.append(args)"
      ]
    },
    {
      "cell_type": "markdown",
      "metadata": {
        "id": "ib0CDC4DOQsf"
      },
      "source": [
        "### ensemble predictions "
      ]
    },
    {
      "cell_type": "code",
      "execution_count": null,
      "metadata": {
        "colab": {
          "base_uri": "https://localhost:8080/"
        },
        "id": "i53cKXnWN41z",
        "outputId": "e0e39339-3f3d-4ee0-9d92-f2db691dd261"
      },
      "outputs": [
        {
          "name": "stdout",
          "output_type": "stream",
          "text": [
            "Base model ensemble target accuracy:  0.7979693845673227\n",
            "Mixup model ensemble target accuracy:  0.8184317400812247\n"
          ]
        }
      ],
      "source": [
        "target_output = ensemble(args_array, \"target\", \"base\")\n",
        "target_pred = np.argmax(target_output, axis=1)\n",
        "print(\"Base model ensemble target accuracy: \", np.mean(target_pred == target_labels))\n",
        "\n",
        "target_output = ensemble(args_array, \"target\", \"mixup\")\n",
        "target_pred = np.argmax(target_output, axis=1)\n",
        "print(\"Mixup model ensemble target accuracy: \", np.mean(target_pred == target_labels))\n",
        "\n",
        "test_output = ensemble(args_array, \"test\")\n",
        "test_pred = np.argmax(test_output, axis=1)\n",
        "np.savetxt(f\"{OUTPUT_FOLDER}answer.txt\", test_pred, delimiter=',',fmt=\"%d\")"
      ]
    },
    {
      "cell_type": "code",
      "execution_count": null,
      "metadata": {
        "colab": {
          "base_uri": "https://localhost:8080/",
          "height": 338
        },
        "id": "nmizJ9KIrneW",
        "outputId": "5cbfc5e7-c9b4-4dd4-b3d2-d3e2f404cd37"
      },
      "outputs": [
        {
          "data": {
            "text/plain": [
              "(array([10844.,     0.,  2230.,     0.,  9380.,     0.,  1132.,     0.,\n",
              "          270.,  1900.]),\n",
              " array([0. , 0.5, 1. , 1.5, 2. , 2.5, 3. , 3.5, 4. , 4.5, 5. ]),\n",
              " <a list of 10 Patch objects>)"
            ]
          },
          "execution_count": 32,
          "metadata": {},
          "output_type": "execute_result"
        },
        {
          "data": {
            "image/png": "[encoded data removed]",
            "text/plain": [
              "<Figure size 432x288 with 1 Axes>"
            ]
          },
          "metadata": {
            "needs_background": "light"
          },
          "output_type": "display_data"
        }
      ],
      "source": [
        "plt.hist(test_pred)"
      ]
    },
    {
      "cell_type": "markdown",
      "metadata": {
        "id": "xKZF3_UWpEJu"
      },
      "source": [
        "### save results"
      ]
    },
    {
      "cell_type": "code",
      "execution_count": null,
      "metadata": {
        "id": "db-5S8ndISNS"
      },
      "outputs": [],
      "source": [
        "import datetime\n",
        "from google.colab import files"
      ]
    },
    {
      "cell_type": "code",
      "execution_count": null,
      "metadata": {
        "colab": {
          "base_uri": "https://localhost:8080/"
        },
        "id": "xPePtnX4NGvy",
        "outputId": "0dae9216-60b8-461c-c164-ba21973f61ae"
      },
      "outputs": [
        {
          "name": "stdout",
          "output_type": "stream",
          "text": [
            "2021-10-01-17-09-sleep-mixup_vat_v3\n"
          ]
        }
      ],
      "source": [
        "archive_folder = f\"{datetime.datetime.now():%Y-%m-%d-%H-%M}-sleep-mixup_vat_v3\"\n",
        "print(archive_folder)"
      ]
    },
    {
      "cell_type": "code",
      "execution_count": null,
      "metadata": {
        "colab": {
          "base_uri": "https://localhost:8080/",
          "height": 16
        },
        "id": "g4OMglgVgMXz",
        "outputId": "6a1e72f1-601a-4e1a-9b0e-70f93b8a4d12"
      },
      "outputs": [
        {
          "data": {
            "application/javascript": "\n    async function download(id, filename, size) {\n      if (!google.colab.kernel.accessAllowed) {\n        return;\n      }\n      const div = document.createElement('div');\n      const label = document.createElement('label');\n      label.textContent = `Downloading \"${filename}\": `;\n      div.appendChild(label);\n      const progress = document.createElement('progress');\n      progress.max = size;\n      div.appendChild(progress);\n      document.body.appendChild(div);\n\n      const buffers = [];\n      let downloaded = 0;\n\n      const channel = await google.colab.kernel.comms.open(id);\n      // Send a message to notify the kernel that we're ready.\n      channel.send({})\n\n      for await (const message of channel.messages) {\n        // Send a message to notify the kernel that we're ready.\n        channel.send({})\n        if (message.buffers) {\n          for (const buffer of message.buffers) {\n            buffers.push(buffer);\n            downloaded += buffer.byteLength;\n            progress.value = downloaded;\n          }\n        }\n      }\n      const blob = new Blob(buffers, {type: 'application/binary'});\n      const a = document.createElement('a');\n      a.href = window.URL.createObjectURL(blob);\n      a.download = filename;\n      div.appendChild(a);\n      a.click();\n      div.remove();\n    }\n  ",
            "text/plain": [
              "<IPython.core.display.Javascript object>"
            ]
          },
          "metadata": {},
          "output_type": "display_data"
        },
        {
          "data": {
            "application/javascript": "download(\"download_8d9f70b0-4b3f-41c4-8d08-38b4c47d49a9\", \"answer.txt\", 51512)",
            "text/plain": [
              "<IPython.core.display.Javascript object>"
            ]
          },
          "metadata": {},
          "output_type": "display_data"
        }
      ],
      "source": [
        "files.download(f\"{OUTPUT_FOLDER}answer.txt\")"
      ]
    },
    {
      "cell_type": "code",
      "execution_count": null,
      "metadata": {
        "id": "VQz_uEeBgs9_"
      },
      "outputs": [],
      "source": [
        "%notebook -e {OUTPUT_FOLDER}notebook_run.ipynb"
      ]
    },
    {
      "cell_type": "code",
      "execution_count": null,
      "metadata": {
        "id": "FqNPjHHKHZa7"
      },
      "outputs": [],
      "source": [
        "!cp -R {OUTPUT_FOLDER} {GDRIVE_OUTPUT_FOLDER}{archive_folder}"
      ]
    }
  ],
  "metadata": {
    "accelerator": "GPU",
    "colab": {
      "collapsed_sections": [],
      "name": "beetl-sleep-mixup_vat_v3.ipynb",
      "provenance": [],
      "toc_visible": true
    },
    "kernelspec": {
      "display_name": "Python 3",
      "name": "python3"
    },
    "language_info": {
      "name": "python"
    }
  },
  "nbformat": 4,
  "nbformat_minor": 0
}